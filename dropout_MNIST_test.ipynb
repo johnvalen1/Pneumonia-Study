{
  "nbformat": 4,
  "nbformat_minor": 0,
  "metadata": {
    "colab": {
      "name": "dropout_MNIST_test.ipynb",
      "provenance": []
    },
    "kernelspec": {
      "name": "python3",
      "display_name": "Python 3"
    },
    "accelerator": "GPU"
  },
  "cells": [
    {
      "cell_type": "code",
      "metadata": {
        "id": "EYBSbdO2ry-R",
        "colab_type": "code",
        "outputId": "b5357a80-4ef1-481c-db0f-366c24f5a5cd",
        "colab": {
          "base_uri": "https://localhost:8080/",
          "height": 190
        }
      },
      "source": [
        "!pip install ipython-autotime\n",
        "%load_ext autotime"
      ],
      "execution_count": 1,
      "outputs": [
        {
          "output_type": "stream",
          "text": [
            "Collecting ipython-autotime\n",
            "  Downloading https://files.pythonhosted.org/packages/e6/f9/0626bbdb322e3a078d968e87e3b01341e7890544de891d0cb613641220e6/ipython-autotime-0.1.tar.bz2\n",
            "Building wheels for collected packages: ipython-autotime\n",
            "  Building wheel for ipython-autotime (setup.py) ... \u001b[?25l\u001b[?25hdone\n",
            "  Created wheel for ipython-autotime: filename=ipython_autotime-0.1-cp36-none-any.whl size=1832 sha256=bedcc9d34c604448f2c7ff1388e37081e2ee5b3386144387af518b525daff12b\n",
            "  Stored in directory: /root/.cache/pip/wheels/d2/df/81/2db1e54bc91002cec40334629bc39cfa86dff540b304ebcd6e\n",
            "Successfully built ipython-autotime\n",
            "Installing collected packages: ipython-autotime\n",
            "Successfully installed ipython-autotime-0.1\n"
          ],
          "name": "stdout"
        }
      ]
    },
    {
      "cell_type": "code",
      "metadata": {
        "id": "-CcKVmc7r33c",
        "colab_type": "code",
        "outputId": "dd61aa75-a280-4240-da0a-371eca7b5c73",
        "colab": {
          "base_uri": "https://localhost:8080/",
          "height": 34
        }
      },
      "source": [
        "import torch\n",
        "import torch.nn as nn\n",
        "import torch.nn.functional as F\n",
        "import torch.optim as optim\n",
        "import torchvision\n",
        "from torchvision import datasets, transforms\n",
        "from torch.utils.data import DataLoader\n",
        "import numpy as np\n",
        "import matplotlib.pyplot as plt\n",
        "from matplotlib import colors\n",
        "from IPython import display\n",
        "import os\n",
        "from PIL import Image\n",
        "from torch.utils.data.dataset import Dataset\n",
        "from torch.autograd import Variable"
      ],
      "execution_count": 2,
      "outputs": [
        {
          "output_type": "stream",
          "text": [
            "time: 3.02 s\n"
          ],
          "name": "stdout"
        }
      ]
    },
    {
      "cell_type": "code",
      "metadata": {
        "id": "3SpFh6V7r5CY",
        "colab_type": "code",
        "colab": {}
      },
      "source": [
        "\n",
        "hyperparams = {'l1_out': 512,\n",
        "                  'l2_out': 512,\n",
        "                  'l1_drop': 0.5,\n",
        "                  'l2_drop': 0.5,\n",
        "                  'batch_size': 32,\n",
        "                  'epochs': 5}\n",
        "\n",
        "\n",
        "train_loader = torch.utils.data.DataLoader(\n",
        "        datasets.MNIST('mnist-data/', train=True, download=True,\n",
        "                       transform=transforms.Compose([transforms.ToTensor(),])),\n",
        "        batch_size=hyperparams['batch_size'], shuffle=True)\n",
        "\n",
        "test_loader = torch.utils.data.DataLoader(\n",
        "        datasets.MNIST('mnist-data/', train=False, transform=transforms.Compose([transforms.ToTensor(),])\n",
        "                       ),\n",
        "        batch_size=hyperparams['batch_size'], shuffle=True)\n",
        "\n",
        "\n",
        "class Net(nn.Module):\n",
        "    def __init__(self):\n",
        "        super(Net, self).__init__()\n",
        "        self.fc1 = nn.Linear(28 * 28, hyperparams['l1_out'])\n",
        "        self.dropout1 = nn.Dropout(hyperparams['l1_drop'])\n",
        "        self.fc2 = nn.Linear(hyperparams['l1_out'], hyperparams['l2_out'])\n",
        "        self.dropout2 = nn.Dropout(hyperparams['l2_drop'])\n",
        "        self.fc3 = nn.Linear(hyperparams['l2_out'], 10)\n",
        "\n",
        "    def forward(self, x):\n",
        "        x = F.relu(self.fc1(x))\n",
        "        x = F.relu(self.fc2(x))\n",
        "        x = self.fc3(x)\n",
        "        return F.log_softmax(x) #exponentiate logits to retrieve predicted probabilities\n",
        "\n"
      ],
      "execution_count": 0,
      "outputs": []
    },
    {
      "cell_type": "code",
      "metadata": {
        "id": "bm6m1XZgsBkl",
        "colab_type": "code",
        "colab": {
          "base_uri": "https://localhost:8080/",
          "height": 411
        },
        "outputId": "8ad8a57f-e733-40f2-ae22-6d0728d60a3f"
      },
      "source": [
        "net_trained = Net()\n",
        "net_trained.train()\n",
        "# create an Adam optimizer\n",
        "optimizer = optim.Adam(net_trained.parameters(), lr=0.001)\n",
        "# create a loss function\n",
        "criterion = nn.CrossEntropyLoss()\n",
        "\n",
        "epochs = hyperparams['epochs']\n",
        "\n",
        "# run the main training loop\n",
        "for epoch in range(epochs):\n",
        "    for batch_idx, (data, target) in enumerate(train_loader):\n",
        "        data, target = Variable(data), Variable(target)\n",
        "        # resize data from (batch_size, 1, 28, 28) to (batch_size, 28*28)\n",
        "        data = data.view(-1, 28*28)\n",
        "        optimizer.zero_grad()\n",
        "        net_out = net_trained(data)\n",
        "        loss = criterion(net_out, target)\n",
        "        loss.backward()\n",
        "        optimizer.step()\n",
        "        if batch_idx % 500 == 0:\n",
        "            print('Train Epoch: {} [{}/{} ({:.0f}%)]\\tLoss: {:.6f}'.format(\n",
        "                    epoch, batch_idx * len(data), len(train_loader.dataset),\n",
        "                           100. * batch_idx / len(train_loader), loss.data))\n",
        "            "
      ],
      "execution_count": 9,
      "outputs": [
        {
          "output_type": "stream",
          "text": [
            "/usr/local/lib/python3.6/dist-packages/ipykernel_launcher.py:34: UserWarning: Implicit dimension choice for log_softmax has been deprecated. Change the call to include dim=X as an argument.\n"
          ],
          "name": "stderr"
        },
        {
          "output_type": "stream",
          "text": [
            "Train Epoch: 0 [0/60000 (0%)]\tLoss: 2.300746\n",
            "Train Epoch: 0 [16000/60000 (27%)]\tLoss: 0.083377\n",
            "Train Epoch: 0 [32000/60000 (53%)]\tLoss: 0.186018\n",
            "Train Epoch: 0 [48000/60000 (80%)]\tLoss: 0.311338\n",
            "Train Epoch: 1 [0/60000 (0%)]\tLoss: 0.013656\n",
            "Train Epoch: 1 [16000/60000 (27%)]\tLoss: 0.024796\n",
            "Train Epoch: 1 [32000/60000 (53%)]\tLoss: 0.011382\n",
            "Train Epoch: 1 [48000/60000 (80%)]\tLoss: 0.049497\n",
            "Train Epoch: 2 [0/60000 (0%)]\tLoss: 0.021566\n",
            "Train Epoch: 2 [16000/60000 (27%)]\tLoss: 0.006836\n",
            "Train Epoch: 2 [32000/60000 (53%)]\tLoss: 0.038105\n",
            "Train Epoch: 2 [48000/60000 (80%)]\tLoss: 0.055847\n",
            "Train Epoch: 3 [0/60000 (0%)]\tLoss: 0.001605\n",
            "Train Epoch: 3 [16000/60000 (27%)]\tLoss: 0.017032\n",
            "Train Epoch: 3 [32000/60000 (53%)]\tLoss: 0.001622\n",
            "Train Epoch: 3 [48000/60000 (80%)]\tLoss: 0.007173\n",
            "Train Epoch: 4 [0/60000 (0%)]\tLoss: 0.002055\n",
            "Train Epoch: 4 [16000/60000 (27%)]\tLoss: 0.001304\n",
            "Train Epoch: 4 [32000/60000 (53%)]\tLoss: 0.207564\n",
            "Train Epoch: 4 [48000/60000 (80%)]\tLoss: 0.002137\n",
            "time: 2min 5s\n"
          ],
          "name": "stdout"
        }
      ]
    },
    {
      "cell_type": "code",
      "metadata": {
        "id": "NJK6jguUsDYu",
        "colab_type": "code",
        "outputId": "e6879999-52c1-49ff-8ec9-255cc71b7e0e",
        "colab": {
          "base_uri": "https://localhost:8080/",
          "height": 34
        }
      },
      "source": [
        "f = 'model'\n",
        "torch.save(net_trained.state_dict(), f)"
      ],
      "execution_count": 10,
      "outputs": [
        {
          "output_type": "stream",
          "text": [
            "time: 6.13 ms\n"
          ],
          "name": "stdout"
        }
      ]
    },
    {
      "cell_type": "code",
      "metadata": {
        "id": "Qv4dDRMJsFQC",
        "colab_type": "code",
        "outputId": "9886d57a-b9f7-4eec-bc86-913c220223b7",
        "colab": {
          "base_uri": "https://localhost:8080/",
          "height": 299
        }
      },
      "source": [
        "# try this on just ONE new image from the test set\n",
        "import matplotlib.pyplot as plt\n",
        "import random\n",
        "\n",
        "\n",
        "for test_images, test_labels in test_loader:  \n",
        "    sample_image = test_images[0]    # Reshape them according to your needs.\n",
        "    sample_label = test_labels[0]\n",
        "\n",
        "sample_image_modified = sample_image.permute(1, 2, 0)\n",
        "plt.imshow(sample_image_modified.numpy().squeeze())\n",
        "plt.show()\n",
        "print(sample_label.item())"
      ],
      "execution_count": 11,
      "outputs": [
        {
          "output_type": "display_data",
          "data": {
            "image/png": "[encoded data removed]",
            "text/plain": [
              "<Figure size 432x288 with 1 Axes>"
            ]
          },
          "metadata": {
            "tags": []
          }
        },
        {
          "output_type": "stream",
          "text": [
            "6\n",
            "time: 814 ms\n"
          ],
          "name": "stdout"
        }
      ]
    },
    {
      "cell_type": "code",
      "metadata": {
        "id": "qFdf7PDbsH6e",
        "colab_type": "code",
        "outputId": "bfd475bd-70fc-4e5c-d7b0-293893c615db",
        "colab": {
          "base_uri": "https://localhost:8080/",
          "height": 139
        }
      },
      "source": [
        "trained = False\n",
        "net_trained.load_state_dict(torch.load(f))\n",
        "net_untrained = Net()\n",
        "\n",
        "\n",
        "if trained:\n",
        "  output = net_trained(sample_image.flatten()) # sample image has dimensions 28*28, needs to be 784\n",
        "  #print(output) # list of 10 elements; class-specific logits pre-activation.\n",
        "  print(sample_label.item())\n",
        "  predictive_probs = np.exp(output.detach())\n",
        "  print(predictive_probs)\n",
        "\n",
        "  _, prediction = output.max(0)\n",
        "  print(prediction.item())\n",
        "else:\n",
        "  output = net_untrained(sample_image.flatten()) # sample image has dimensions 28*28, needs to be 784\n",
        "  #print(output) # list of 10 elements; class-specific logits pre-activation.\n",
        "  print(sample_label.item())\n",
        "  predictive_probs = np.exp(output.detach())\n",
        "  print(predictive_probs)\n",
        "\n",
        "  _, prediction = output.max(0)\n",
        "  print(prediction.item())"
      ],
      "execution_count": 19,
      "outputs": [
        {
          "output_type": "stream",
          "text": [
            "6\n",
            "tensor([0.0933, 0.1063, 0.0996, 0.0908, 0.1031, 0.0969, 0.1001, 0.0994, 0.1060,\n",
            "        0.1046])\n",
            "1\n",
            "time: 20.7 ms\n"
          ],
          "name": "stdout"
        },
        {
          "output_type": "stream",
          "text": [
            "/usr/local/lib/python3.6/dist-packages/ipykernel_launcher.py:34: UserWarning: Implicit dimension choice for log_softmax has been deprecated. Change the call to include dim=X as an argument.\n"
          ],
          "name": "stderr"
        }
      ]
    },
    {
      "cell_type": "markdown",
      "metadata": {
        "id": "2NsALThC3dBr",
        "colab_type": "text"
      },
      "source": [
        "See\n",
        "https://gitlab.com/wdeback/dl-keras-tutorial/blob/master/notebooks/3-cnn-segment-retina-uncertainty.ipynb"
      ]
    },
    {
      "cell_type": "code",
      "metadata": {
        "id": "HjRb1EsjP_Vm",
        "colab_type": "code",
        "outputId": "28843d28-90af-404b-e4ae-9325fcaa9abd",
        "colab": {
          "base_uri": "https://localhost:8080/",
          "height": 34
        }
      },
      "source": [
        "T = 3 # how many times to apply drop-out at test time\n",
        "\n",
        "def apply_dropout(m):\n",
        "    if type(m) == nn.Dropout:\n",
        "        m.train()\n",
        "\n",
        "def uncertainties(p):\n",
        "    aleatoric = np.mean(p*(1-p), axis=0)\n",
        "    epistemic = np.mean(p**2, axis=0) - np.mean(p, axis=0)**2\n",
        "    return aleatoric, epistemic\n",
        "\n",
        "\n",
        "def predict(model, image, label, T=T):\n",
        "    model.eval()\n",
        "    model.apply(apply_dropout) # STILL NOT WORKING WITH DROPOUT AT TEST-TIME\n",
        "    # prepare label\n",
        "    label = label.item()\n",
        "    # prepare image\n",
        "    image = image.flatten()\n",
        "    standard_output = model(image)\n",
        "    _, standard_prediction = standard_output.max(0)\n",
        "    # each vector will consist of T elements- the class-specific predictive probability from each model\n",
        "    zero_p_hat= []\n",
        "    one_p_hat= []\n",
        "    two_p_hat= []\n",
        "    three_p_hat= []\n",
        "    four_p_hat= []\n",
        "    five_p_hat= []\n",
        "    six_p_hat= []\n",
        "    seven_p_hat= []\n",
        "    eight_p_hat= []\n",
        "    nine_p_hat= []\n",
        "\n",
        "    # predict stochastic dropout model T times\n",
        "    for t in range(T):\n",
        "        output = model(image)\n",
        "        output = output.detach()\n",
        "        output_prob = np.exp(output) #convert to predictive probabilities\n",
        "\n",
        "        zero_p_hat.append(output_prob[0].item()) # P( c = 0 | image)\n",
        "        one_p_hat.append(output_prob[1].item()) # P( c = 1 | image)\n",
        "        two_p_hat.append(output_prob[2].item()) # P( c = 2 | image)\n",
        "        three_p_hat.append(output_prob[3].item()) # P( c = 3 | image)\n",
        "        four_p_hat.append(output_prob[4].item()) # P( c = 4 | image)\n",
        "        five_p_hat.append(output_prob[5].item()) # P( c = 5 | image)\n",
        "        six_p_hat.append(output_prob[6].item()) # P( c = 6 | image)\n",
        "        seven_p_hat.append(output_prob[7].item()) # P( c = 7 | image)\n",
        "        eight_p_hat.append(output_prob[8].item()) # P( c = 8 | image)\n",
        "        nine_p_hat.append(output_prob[9].item()) # P( c = 9 | image)\n",
        "\n",
        "    # mean prediction\n",
        "    zero_var = np.var(zero_p_hat)\n",
        "    one_var = np.var(one_p_hat)\n",
        "    two_var = np.var(two_p_hat)\n",
        "    three_var = np.var(three_p_hat)\n",
        "    four_var = np.var(four_p_hat)\n",
        "    five_var = np.var(five_p_hat)\n",
        "    six_var = np.var(six_p_hat)\n",
        "    seven_var = np.var(seven_p_hat)\n",
        "    eight_var = np.var(eight_p_hat)\n",
        "    nine_var = np.var(nine_p_hat)\n",
        "    \n",
        "    # will be a list of 10 elements, the variance of each class's predictions across T models\n",
        "    class_specific_uncertainties = [zero_var, one_var, two_var, three_var, four_var, five_var, six_var, seven_var, eight_var, nine_var]\n",
        "    variance_of_class_specific_predictions = class_specific_uncertainties[label]\n",
        "    \n",
        "    # estimate uncertainties (eq. 4 )\n",
        "    # eq.4 in https://openreview.net/pdf?id=Sk_P2Q9sG\n",
        "    # see https://github.com/ykwon0407/UQ_BNN/issues/1\n",
        "    p_hat_lists = [zero_p_hat, one_p_hat, two_p_hat, three_p_hat, four_p_hat, five_p_hat, six_p_hat, seven_p_hat, eight_p_hat, nine_p_hat]\n",
        "    epistemic, aleatoric = uncertainties(np.array(p_hat_lists[label]))\n",
        "\n",
        "    return standard_prediction.item(), variance_of_class_specific_predictions, np.squeeze(aleatoric), np.squeeze(epistemic), p_hat_lists[label]"
      ],
      "execution_count": 20,
      "outputs": [
        {
          "output_type": "stream",
          "text": [
            "time: 53.8 ms\n"
          ],
          "name": "stdout"
        }
      ]
    },
    {
      "cell_type": "code",
      "metadata": {
        "id": "FWg1FnvdSMan",
        "colab_type": "code",
        "outputId": "c5bcb705-22fc-4369-c65a-b7581905c7a0",
        "colab": {
          "base_uri": "https://localhost:8080/",
          "height": 173
        }
      },
      "source": [
        "prediction, var_uncertainty, aleatoric, epistemic, _ = predict(net_untrained, sample_image, sample_label)\n",
        "print(\"\\n The model predicts: {} \\n The ground truth is {}.\\n With drop-out at test-time {} times, variance of class-specific predictions across the models is {}. \\n Finally, aleatoric and epistemic uncertainties are {} and {}.\\n The models give predictive probabilities: {}\".format(prediction, sample_label, T, var_uncertainty, aleatoric, epistemic, _))"
      ],
      "execution_count": 21,
      "outputs": [
        {
          "output_type": "stream",
          "text": [
            "\n",
            " The model predicts: 1 \n",
            " The ground truth is 6.\n",
            " With drop-out at test-time 3 times, variance of class-specific predictions across the models is 0.0. \n",
            " Finally, aleatoric and epistemic uncertainties are 0.0 and 0.09009235121962117.\n",
            " The models give predictive probabilities: [0.10011545568704605, 0.10011545568704605, 0.10011545568704605]\n",
            "time: 9.18 ms\n"
          ],
          "name": "stdout"
        },
        {
          "output_type": "stream",
          "text": [
            "/usr/local/lib/python3.6/dist-packages/ipykernel_launcher.py:34: UserWarning: Implicit dimension choice for log_softmax has been deprecated. Change the call to include dim=X as an argument.\n"
          ],
          "name": "stderr"
        }
      ]
    }
  ]
}